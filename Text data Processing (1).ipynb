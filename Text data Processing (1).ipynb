{
 "cells": [
  {
   "cell_type": "code",
   "execution_count": 721,
   "id": "92f38cb1-3adb-44dc-aa0f-aa5160d20eae",
   "metadata": {},
   "outputs": [],
   "source": [
    "!pip install -q wordcloud emoji "
   ]
  },
  {
   "cell_type": "code",
   "execution_count": 722,
   "id": "cee68a84-113e-4340-9674-b560e89ab6d6",
   "metadata": {},
   "outputs": [],
   "source": [
    "import pandas as pd\n",
    "import matplotlib.pyplot as plt\n",
    "import seaborn as sns\n",
    "import numpy as np"
   ]
  },
  {
   "cell_type": "code",
   "execution_count": 723,
   "id": "3dde56c9-52dd-4a90-b602-c40175432a84",
   "metadata": {},
   "outputs": [
    {
     "name": "stderr",
     "output_type": "stream",
     "text": [
      "[nltk_data] Downloading package stopwords to\n",
      "[nltk_data]     /Users/pramodnelavalli/nltk_data...\n",
      "[nltk_data]   Package stopwords is already up-to-date!\n",
      "[nltk_data] Downloading package punkt to\n",
      "[nltk_data]     /Users/pramodnelavalli/nltk_data...\n",
      "[nltk_data]   Package punkt is already up-to-date!\n",
      "[nltk_data] Downloading package punkt_tab to\n",
      "[nltk_data]     /Users/pramodnelavalli/nltk_data...\n",
      "[nltk_data]   Package punkt_tab is already up-to-date!\n",
      "[nltk_data] Downloading package wordnet to\n",
      "[nltk_data]     /Users/pramodnelavalli/nltk_data...\n",
      "[nltk_data]   Package wordnet is already up-to-date!\n"
     ]
    }
   ],
   "source": [
    "import emoji\n",
    "from wordcloud import WordCloud, STOPWORDS\n",
    "import re\n",
    "import nltk\n",
    "nltk.download('stopwords')\n",
    "nltk.download('punkt')\n",
    "# this is a sky\n",
    "# ['this','is','a','sky']\n",
    "nltk.download('punkt_tab')\n",
    "nltk.download('wordnet') # lemmatizer\n",
    "\n",
    "from nltk.corpus import stopwords #corpora\n",
    "\n",
    "from nltk.stem import WordNetLemmatizer\n",
    "from nltk.tokenize import word_tokenize\n",
    "# this is a sky\n",
    "# ['this','is','a','sky']\n",
    "\n",
    "import warnings\n",
    "warnings.filterwarnings('ignore')"
   ]
  },
  {
   "cell_type": "code",
   "execution_count": 724,
   "id": "031455aa-0003-4d38-8d3e-96bb5ac95c99",
   "metadata": {},
   "outputs": [],
   "source": [
    "combined_df = pd.read_csv(\"tamil_movie_reviews_test.csv\")"
   ]
  },
  {
   "cell_type": "code",
   "execution_count": 726,
   "id": "04cb5513-c1d9-4c4f-8e51-a18ca31b4db5",
   "metadata": {},
   "outputs": [
    {
     "data": {
      "text/html": [
       "<div>\n",
       "<style scoped>\n",
       "    .dataframe tbody tr th:only-of-type {\n",
       "        vertical-align: middle;\n",
       "    }\n",
       "\n",
       "    .dataframe tbody tr th {\n",
       "        vertical-align: top;\n",
       "    }\n",
       "\n",
       "    .dataframe thead th {\n",
       "        text-align: right;\n",
       "    }\n",
       "</style>\n",
       "<table border=\"1\" class=\"dataframe\">\n",
       "  <thead>\n",
       "    <tr style=\"text-align: right;\">\n",
       "      <th></th>\n",
       "      <th>ReviewId</th>\n",
       "      <th>ReviewInTamil</th>\n",
       "      <th>Rating</th>\n",
       "    </tr>\n",
       "  </thead>\n",
       "  <tbody>\n",
       "    <tr>\n",
       "      <th>0</th>\n",
       "      <td>521</td>\n",
       "      <td>லாரன்ஸுக்கும் பேய்க்கும் எப்போதும் ஒரு வெற்றி ...</td>\n",
       "      <td>2.75</td>\n",
       "    </tr>\n",
       "    <tr>\n",
       "      <th>1</th>\n",
       "      <td>266</td>\n",
       "      <td>கரு : இன்றைய சூழலில் சமூக வலைதளங்களால் சமூகத்த...</td>\n",
       "      <td>2.00</td>\n",
       "    </tr>\n",
       "    <tr>\n",
       "      <th>2</th>\n",
       "      <td>127</td>\n",
       "      <td>கதை: வசதியற்ற சாதாரண குடும்பத்தை சேர்ந்த நாயகர...</td>\n",
       "      <td>2.00</td>\n",
       "    </tr>\n",
       "    <tr>\n",
       "      <th>3</th>\n",
       "      <td>528</td>\n",
       "      <td>தமிழ் சினிமாவில் இயக்குனர்களுக்காக ஒரு சிலர் ப...</td>\n",
       "      <td>2.00</td>\n",
       "    </tr>\n",
       "    <tr>\n",
       "      <th>4</th>\n",
       "      <td>260</td>\n",
       "      <td>கரு : 'வேலையில்லா பட்டதாரி' படத்தின் பகுதி - 2...</td>\n",
       "      <td>2.50</td>\n",
       "    </tr>\n",
       "  </tbody>\n",
       "</table>\n",
       "</div>"
      ],
      "text/plain": [
       "   ReviewId                                      ReviewInTamil  Rating\n",
       "0       521  லாரன்ஸுக்கும் பேய்க்கும் எப்போதும் ஒரு வெற்றி ...    2.75\n",
       "1       266  கரு : இன்றைய சூழலில் சமூக வலைதளங்களால் சமூகத்த...    2.00\n",
       "2       127  கதை: வசதியற்ற சாதாரண குடும்பத்தை சேர்ந்த நாயகர...    2.00\n",
       "3       528  தமிழ் சினிமாவில் இயக்குனர்களுக்காக ஒரு சிலர் ப...    2.00\n",
       "4       260  கரு : 'வேலையில்லா பட்டதாரி' படத்தின் பகுதி - 2...    2.50"
      ]
     },
     "execution_count": 726,
     "metadata": {},
     "output_type": "execute_result"
    }
   ],
   "source": [
    "combined_df.head()"
   ]
  },
  {
   "cell_type": "code",
   "execution_count": 728,
   "id": "0cec04c3-00f6-4ca4-97a1-ca6f4b16fd00",
   "metadata": {},
   "outputs": [
    {
     "data": {
      "text/html": [
       "<div>\n",
       "<style scoped>\n",
       "    .dataframe tbody tr th:only-of-type {\n",
       "        vertical-align: middle;\n",
       "    }\n",
       "\n",
       "    .dataframe tbody tr th {\n",
       "        vertical-align: top;\n",
       "    }\n",
       "\n",
       "    .dataframe thead th {\n",
       "        text-align: right;\n",
       "    }\n",
       "</style>\n",
       "<table border=\"1\" class=\"dataframe\">\n",
       "  <thead>\n",
       "    <tr style=\"text-align: right;\">\n",
       "      <th></th>\n",
       "      <th>ReviewId</th>\n",
       "      <th>ReviewInTamil</th>\n",
       "    </tr>\n",
       "  </thead>\n",
       "  <tbody>\n",
       "    <tr>\n",
       "      <th>0</th>\n",
       "      <td>521</td>\n",
       "      <td>லாரன்ஸுக்கும் பேய்க்கும் எப்போதும் ஒரு வெற்றி ...</td>\n",
       "    </tr>\n",
       "    <tr>\n",
       "      <th>1</th>\n",
       "      <td>266</td>\n",
       "      <td>கரு : இன்றைய சூழலில் சமூக வலைதளங்களால் சமூகத்த...</td>\n",
       "    </tr>\n",
       "    <tr>\n",
       "      <th>2</th>\n",
       "      <td>127</td>\n",
       "      <td>கதை: வசதியற்ற சாதாரண குடும்பத்தை சேர்ந்த நாயகர...</td>\n",
       "    </tr>\n",
       "    <tr>\n",
       "      <th>3</th>\n",
       "      <td>528</td>\n",
       "      <td>தமிழ் சினிமாவில் இயக்குனர்களுக்காக ஒரு சிலர் ப...</td>\n",
       "    </tr>\n",
       "    <tr>\n",
       "      <th>4</th>\n",
       "      <td>260</td>\n",
       "      <td>கரு : 'வேலையில்லா பட்டதாரி' படத்தின் பகுதி - 2...</td>\n",
       "    </tr>\n",
       "  </tbody>\n",
       "</table>\n",
       "</div>"
      ],
      "text/plain": [
       "   ReviewId                                      ReviewInTamil\n",
       "0       521  லாரன்ஸுக்கும் பேய்க்கும் எப்போதும் ஒரு வெற்றி ...\n",
       "1       266  கரு : இன்றைய சூழலில் சமூக வலைதளங்களால் சமூகத்த...\n",
       "2       127  கதை: வசதியற்ற சாதாரண குடும்பத்தை சேர்ந்த நாயகர...\n",
       "3       528  தமிழ் சினிமாவில் இயக்குனர்களுக்காக ஒரு சிலர் ப...\n",
       "4       260  கரு : 'வேலையில்லா பட்டதாரி' படத்தின் பகுதி - 2..."
      ]
     },
     "execution_count": 728,
     "metadata": {},
     "output_type": "execute_result"
    }
   ],
   "source": [
    "combined_df = combined_df[['ReviewId' , 'ReviewInTamil']]\n",
    "combined_df.head()"
   ]
  },
  {
   "cell_type": "code",
   "execution_count": 733,
   "id": "9aeb4cea-43ca-4104-baa5-ad804dc9e856",
   "metadata": {},
   "outputs": [
    {
     "data": {
      "text/plain": [
       "(121, 2)"
      ]
     },
     "execution_count": 733,
     "metadata": {},
     "output_type": "execute_result"
    }
   ],
   "source": [
    "combined_df.shape"
   ]
  },
  {
   "cell_type": "code",
   "execution_count": 734,
   "id": "16fd35af-64c1-4e41-91e4-6ee6bef823ff",
   "metadata": {},
   "outputs": [
    {
     "data": {
      "text/plain": [
       "<bound method DataFrame.info of      ReviewId                                      ReviewInTamil\n",
       "0         521  லாரன்ஸுக்கும் பேய்க்கும் எப்போதும் ஒரு வெற்றி ...\n",
       "1         266  கரு : இன்றைய சூழலில் சமூக வலைதளங்களால் சமூகத்த...\n",
       "2         127  கதை: வசதியற்ற சாதாரண குடும்பத்தை சேர்ந்த நாயகர...\n",
       "3         528  தமிழ் சினிமாவில் இயக்குனர்களுக்காக ஒரு சிலர் ப...\n",
       "4         260  கரு : 'வேலையில்லா பட்டதாரி' படத்தின் பகுதி - 2...\n",
       "..        ...                                                ...\n",
       "116       474  விக்ரம் பிரபு ஒரு வெற்றி கொடுத்தே ஆகவேண்டும் எ...\n",
       "117       388  தளபதி விஜய் மற்றும் முருகதாஸ் கூட்டணி மீண்டும்...\n",
       "118       446  Read Adhe Kangal Review in English<NEWLINE>தமி...\n",
       "119        37  கரு : வாழ்க்கையில் எதுவேண்டுமனாலும் நடக்கலாம்,...\n",
       "120       218  கரு: ஊக்க மருந்தால் உலகத்தை ஆள நினைக்கும் வில்...\n",
       "\n",
       "[121 rows x 2 columns]>"
      ]
     },
     "execution_count": 734,
     "metadata": {},
     "output_type": "execute_result"
    }
   ],
   "source": [
    "combined_df.info"
   ]
  },
  {
   "cell_type": "code",
   "execution_count": 736,
   "id": "a707e34c-12f9-423a-a677-ad007bbf9cb9",
   "metadata": {},
   "outputs": [],
   "source": [
    "def clean_text(text, remove_stopwords=True):\n",
    "    text = text.lower()\n",
    "    if True:\n",
    "        #text= \"i dont't have supercar\"\n",
    "        text = text.split()\n",
    "        # ['i','don't','have','supercar']\n",
    "        new_text = []\n",
    "        for word in text:\n",
    "            if word in contractions:\n",
    "                new_text.append(contractions[word])\n",
    "                # ['i','do not','have','supercar']\n",
    "            else:\n",
    "                new_text.append(word)\n",
    "        text = \" \".join(new_text)\n",
    "        #[i do not have supercar]\n",
    "\n",
    "    # Remove URLs\n",
    "    text = re.sub(r'https?:\\/\\/.*[\\r\\n]*', '', text, flags=re.MULTILINE)\n",
    "\n",
    "    # Remove usernames\n",
    "    text = re.sub(r'@[A-Za-z0-9]+', '', text)\n",
    "\n",
    "    text = re.sub(r'\\<a href', ' ', text)\n",
    "    text = re.sub(r'&amp;', '', text)\n",
    "    text = re.sub(r'[_\"\\-;%()|+&=*%.,!?:#$@\\[\\]/]', ' ', text)\n",
    "    text = re.sub(r'<br />', ' ', text)\n",
    "    text = re.sub(r'\\'', ' ', text)\n",
    "    # Remove emojis\n",
    "    emoji_pattern = re.compile(\"[\\U0001F600-\\U0001F64F\\U0001F300-\\U0001F5FF\\U0001F680-\\U0001F6FF\" \\\n",
    "                               \"\\U0001F700-\\U0001F77F\\U0001F780-\\U0001F7FF\\U0001F800-\\U0001F8FF\" \\\n",
    "                               \"\\U0001F900-\\U0001F9FF\\U0001FA00-\\U0001FA6F\\U0001FA70-\\U0001FAFF\" \\\n",
    "                               \"\\U00002702-\\U000027B0\\U000024C2-\\U0001F251]+\", flags=re.UNICODE)\n",
    "    text = emoji_pattern.sub(r'', text)\n",
    "\n",
    "    # Tokenize text\n",
    "    words = word_tokenize(text)\n",
    "\n",
    "    # Remove stopwords if needed\n",
    "    if remove_stopwords:\n",
    "        stop_words = set(stopwords.words(\"Tamil\"))\n",
    "        words = [word for word in words if word not in stop_words]\n",
    "\n",
    "    # Lemmatization\n",
    "    lemmatizer = WordNetLemmatizer()\n",
    "    words = [lemmatizer.lemmatize(word) for word in words]\n",
    "\n",
    "    return \" \".join(words)\n"
   ]
  },
  {
   "cell_type": "code",
   "execution_count": 739,
   "id": "cc73ac69-f7b7-422b-bea3-43373f2af8c6",
   "metadata": {},
   "outputs": [],
   "source": [
    "# conractions in tamil\n",
    "contractions = {\n",
    "    \"நான்'னு\": \"நான் என்று\",\n",
    "    \"இவ'னு\": \"இவன் என்று\",\n",
    "    \"அவ'னு\": \"அவன் என்று\",\n",
    "    \"என்ன'னு\": \"என்ன என்று\",\n",
    "    \"எப்ப'டி\": \"எப்படி\",\n",
    "    \"எவ்ளோ\": \"எவ்வளவு\",\n",
    "    \"சொன்னா'தான்\": \"சொன்னால்தான்\",\n",
    "    \"இருக'குது\": \"இருக்கிறது\",\n",
    "    \"போற'து\": \"போகிறது\",\n",
    "    \"வந்தா'தான்\": \"வந்தால்தான்\",\n",
    "    \"சாப்பிட'ல\": \"சாப்பிடவில்லை\",\n",
    "    \"பாக்க'ல\": \"பார்க்கவில்லை\"\n",
    "}\n"
   ]
  },
  {
   "cell_type": "code",
   "execution_count": 741,
   "id": "cd062b9d-269d-42b5-aa89-35eda40547c6",
   "metadata": {},
   "outputs": [],
   "source": [
    "combined_df['clean_ReviewInTamil'] = combined_df['ReviewInTamil'].apply(lambda x: clean_text(str(x)))\n"
   ]
  },
  {
   "cell_type": "code",
   "execution_count": 743,
   "id": "a31f54d3-b439-46f7-8017-76d6cb3e66b3",
   "metadata": {},
   "outputs": [],
   "source": [
    "def expand_tamil_contractions(text):\n",
    "    words = text.split()\n",
    "    expanded_words = [tamil_contractions[word] if word in tamil_contractions else word for word in words]\n",
    "    return \" \".join(expanded_words)\n"
   ]
  },
  {
   "cell_type": "code",
   "execution_count": 745,
   "id": "019e1f23-67ec-4f2f-81ca-649b6d259abe",
   "metadata": {},
   "outputs": [
    {
     "name": "stdout",
     "output_type": "stream",
     "text": [
      "     ReviewId                                      ReviewInTamil  \\\n",
      "0         521  லாரன்ஸுக்கும் பேய்க்கும் எப்போதும் ஒரு வெற்றி ...   \n",
      "1         266  கரு : இன்றைய சூழலில் சமூக வலைதளங்களால் சமூகத்த...   \n",
      "2         127  கதை: வசதியற்ற சாதாரண குடும்பத்தை சேர்ந்த நாயகர...   \n",
      "3         528  தமிழ் சினிமாவில் இயக்குனர்களுக்காக ஒரு சிலர் ப...   \n",
      "4         260  கரு : 'வேலையில்லா பட்டதாரி' படத்தின் பகுதி - 2...   \n",
      "..        ...                                                ...   \n",
      "116       474  விக்ரம் பிரபு ஒரு வெற்றி கொடுத்தே ஆகவேண்டும் எ...   \n",
      "117       388  தளபதி விஜய் மற்றும் முருகதாஸ் கூட்டணி மீண்டும்...   \n",
      "118       446  Read Adhe Kangal Review in English<NEWLINE>தமி...   \n",
      "119        37  கரு : வாழ்க்கையில் எதுவேண்டுமனாலும் நடக்கலாம்,...   \n",
      "120       218  கரு: ஊக்க மருந்தால் உலகத்தை ஆள நினைக்கும் வில்...   \n",
      "\n",
      "                                   clean_ReviewInTamil  \n",
      "0    லாரன்ஸுக்கும் பேய்க்கும் எப்போதும் வெற்றி கனெக...  \n",
      "1    கரு இன்றைய சூழலில் சமூக வலைதளங்களால் சமூகத்தில...  \n",
      "2    கதை வசதியற்ற சாதாரண குடும்பத்தை நாயகர் பிரித்வ...  \n",
      "3    தமிழ் சினிமாவில் இயக்குனர்களுக்காக சிலர் படம் ...  \n",
      "4    கரு வேலையில்லா பட்டதாரி படத்தின் பகுதி 2 ஆக இய...  \n",
      "..                                                 ...  \n",
      "116  விக்ரம் பிரபு வெற்றி கொடுத்தே ஆகவேண்டும் கட்டா...  \n",
      "117  தளபதி விஜய் முருகதாஸ் கூட்டணி மீண்டும் இணைகிறத...  \n",
      "118  read adhe kangal review in english < newline >...  \n",
      "119  கரு வாழ்க்கையில் எதுவேண்டுமனாலும் நடக்கலாம் ஏற...  \n",
      "120  கரு ஊக்க மருந்தால் உலகத்தை ஆள நினைக்கும் வில்ல...  \n",
      "\n",
      "[121 rows x 3 columns]\n"
     ]
    }
   ],
   "source": [
    "non_string_values = combined_df[~combined_df['ReviewId'].apply(lambda x: isinstance(x, str))]\n",
    "print(non_string_values)\n"
   ]
  },
  {
   "cell_type": "code",
   "execution_count": 747,
   "id": "dd2d1702-9d1b-4722-9d8b-da66bb735d2b",
   "metadata": {},
   "outputs": [],
   "source": [
    "combined_df.drop_duplicates(inplace=True)"
   ]
  },
  {
   "cell_type": "code",
   "execution_count": 749,
   "id": "78ba8ab5-692f-4107-ba20-51765a440180",
   "metadata": {},
   "outputs": [
    {
     "data": {
      "text/html": [
       "<div>\n",
       "<style scoped>\n",
       "    .dataframe tbody tr th:only-of-type {\n",
       "        vertical-align: middle;\n",
       "    }\n",
       "\n",
       "    .dataframe tbody tr th {\n",
       "        vertical-align: top;\n",
       "    }\n",
       "\n",
       "    .dataframe thead th {\n",
       "        text-align: right;\n",
       "    }\n",
       "</style>\n",
       "<table border=\"1\" class=\"dataframe\">\n",
       "  <thead>\n",
       "    <tr style=\"text-align: right;\">\n",
       "      <th></th>\n",
       "      <th>ReviewId</th>\n",
       "      <th>ReviewInTamil</th>\n",
       "      <th>clean_ReviewInTamil</th>\n",
       "    </tr>\n",
       "  </thead>\n",
       "  <tbody>\n",
       "    <tr>\n",
       "      <th>0</th>\n",
       "      <td>521</td>\n",
       "      <td>லாரன்ஸுக்கும் பேய்க்கும் எப்போதும் ஒரு வெற்றி ...</td>\n",
       "      <td>லாரன்ஸுக்கும் பேய்க்கும் எப்போதும் வெற்றி கனெக...</td>\n",
       "    </tr>\n",
       "    <tr>\n",
       "      <th>1</th>\n",
       "      <td>266</td>\n",
       "      <td>கரு : இன்றைய சூழலில் சமூக வலைதளங்களால் சமூகத்த...</td>\n",
       "      <td>கரு இன்றைய சூழலில் சமூக வலைதளங்களால் சமூகத்தில...</td>\n",
       "    </tr>\n",
       "    <tr>\n",
       "      <th>2</th>\n",
       "      <td>127</td>\n",
       "      <td>கதை: வசதியற்ற சாதாரண குடும்பத்தை சேர்ந்த நாயகர...</td>\n",
       "      <td>கதை வசதியற்ற சாதாரண குடும்பத்தை நாயகர் பிரித்வ...</td>\n",
       "    </tr>\n",
       "    <tr>\n",
       "      <th>3</th>\n",
       "      <td>528</td>\n",
       "      <td>தமிழ் சினிமாவில் இயக்குனர்களுக்காக ஒரு சிலர் ப...</td>\n",
       "      <td>தமிழ் சினிமாவில் இயக்குனர்களுக்காக சிலர் படம் ...</td>\n",
       "    </tr>\n",
       "    <tr>\n",
       "      <th>4</th>\n",
       "      <td>260</td>\n",
       "      <td>கரு : 'வேலையில்லா பட்டதாரி' படத்தின் பகுதி - 2...</td>\n",
       "      <td>கரு வேலையில்லா பட்டதாரி படத்தின் பகுதி 2 ஆக இய...</td>\n",
       "    </tr>\n",
       "  </tbody>\n",
       "</table>\n",
       "</div>"
      ],
      "text/plain": [
       "   ReviewId                                      ReviewInTamil  \\\n",
       "0       521  லாரன்ஸுக்கும் பேய்க்கும் எப்போதும் ஒரு வெற்றி ...   \n",
       "1       266  கரு : இன்றைய சூழலில் சமூக வலைதளங்களால் சமூகத்த...   \n",
       "2       127  கதை: வசதியற்ற சாதாரண குடும்பத்தை சேர்ந்த நாயகர...   \n",
       "3       528  தமிழ் சினிமாவில் இயக்குனர்களுக்காக ஒரு சிலர் ப...   \n",
       "4       260  கரு : 'வேலையில்லா பட்டதாரி' படத்தின் பகுதி - 2...   \n",
       "\n",
       "                                 clean_ReviewInTamil  \n",
       "0  லாரன்ஸுக்கும் பேய்க்கும் எப்போதும் வெற்றி கனெக...  \n",
       "1  கரு இன்றைய சூழலில் சமூக வலைதளங்களால் சமூகத்தில...  \n",
       "2  கதை வசதியற்ற சாதாரண குடும்பத்தை நாயகர் பிரித்வ...  \n",
       "3  தமிழ் சினிமாவில் இயக்குனர்களுக்காக சிலர் படம் ...  \n",
       "4  கரு வேலையில்லா பட்டதாரி படத்தின் பகுதி 2 ஆக இய...  "
      ]
     },
     "execution_count": 749,
     "metadata": {},
     "output_type": "execute_result"
    }
   ],
   "source": [
    "combined_df.head()"
   ]
  },
  {
   "cell_type": "code",
   "execution_count": 751,
   "id": "06942647-b921-4624-b974-df665c484a21",
   "metadata": {},
   "outputs": [],
   "source": [
    "#Exploratory data analysis"
   ]
  },
  {
   "cell_type": "code",
   "execution_count": 753,
   "id": "28a1a67e-f2f9-414a-bc11-33f31b4bd534",
   "metadata": {},
   "outputs": [],
   "source": [
    "combined_df[\"ReviewInTamil_length\"]= combined_df[\"clean_ReviewInTamil\"].str.len()"
   ]
  },
  {
   "cell_type": "code",
   "execution_count": 755,
   "id": "d0e739f8-1e68-4550-b488-505be0da91b0",
   "metadata": {},
   "outputs": [
    {
     "data": {
      "text/plain": [
       "Text(0.5, 1.0, 'Distribution of the length of ReviewInTamil')"
      ]
     },
     "execution_count": 755,
     "metadata": {},
     "output_type": "execute_result"
    },
    {
     "data": {
      "image/png": "[encoded data removed]",
      "text/plain": [
       "<Figure size 1600x500 with 1 Axes>"
      ]
     },
     "metadata": {},
     "output_type": "display_data"
    }
   ],
   "source": [
    "plt.figure(figsize=(16,5))\n",
    "sns.histplot(combined_df['ReviewInTamil_length'])\n",
    "plt.title(\"Distribution of the length of ReviewInTamil\")"
   ]
  },
  {
   "cell_type": "code",
   "execution_count": 757,
   "id": "7aaec44b-db50-461e-b8d4-49505878bd00",
   "metadata": {},
   "outputs": [],
   "source": [
    "stopwords = set([\n",
    "    \"ஒரு\", \"இந்த\", \"அது\", \"அவர்\", \"அவர்கள்\", \"என்று\", \"மற்றும்\",\n",
    "    \"ஆகிய\", \"உள்ள\", \"மட்டும்\", \"என்ன\", \"எப்படி\", \"எங்கே\", \"எது\",\n",
    "    \"மிக\", \"அதில்\", \"இது\", \"அவை\", \"அதை\", \"தான்\", \"என\", \"அல்லது\",\n",
    "    \"போன்ற\", \"வேண்டும்\", \"சரி\", \"உண்மை\", \"ஆனால்\", \"ஏன்\", \"மிகவும்\",\n",
    "    \"உடன்\", \"பின்\", \"முதல்\", \"வரை\", \"நான்\", \"நீ\", \"நாம்\", \"நீங்கள்\",\n",
    "    \"எனது\", \"உன்னுடைய\", \"அவரது\", \"அவளது\", \"அவர்களின்\"\n",
    "])\n"
   ]
  },
  {
   "cell_type": "code",
   "execution_count": 759,
   "id": "5e0ed288-bd11-4513-bd57-25e7791731f0",
   "metadata": {},
   "outputs": [
    {
     "name": "stdout",
     "output_type": "stream",
     "text": [
      "[('<', 1858), ('newline', 1858), ('>', 1858), ('படம்', 259), ('படத்தின்', 214), ('கதை', 186), ('படத்தில்', 167), ('பலம்', 140), ('உள்ளிட்ட', 134), ('கொஞ்சம்', 123), ('காட்சிகள்', 122), ('விஜய்', 118), ('காதல்', 112), ('பலவீனம்', 109), ('இயக்குனர்', 103), ('பின்னணி', 93), ('மொத்தத்தில்', 92), ('quot', 91), ('தமிழ்', 90), ('இயக்கத்தில்', 89)]\n"
     ]
    }
   ],
   "source": [
    "from collections import Counter\n",
    "\n",
    "# Tokenize the text\n",
    "tokens = word_tokenize(filtered_text)\n",
    "\n",
    "# Create a frequency distribution\n",
    "word_freq = Counter(tokens)\n",
    "\n",
    "# Print the most common words\n",
    "print(word_freq.most_common(20))  # Print top 20 words to check the frequency\n"
   ]
  },
  {
   "cell_type": "code",
   "execution_count": 761,
   "id": "c5a94e28-1f7c-4f4a-a032-b3cc9ca48b95",
   "metadata": {},
   "outputs": [
    {
     "data": {
      "image/png": "[encoded data removed]",
      "text/plain": [
       "<Figure size 800x800 with 1 Axes>"
      ]
     },
     "metadata": {},
     "output_type": "display_data"
    }
   ],
   "source": [
    "all_text = ' '.join(combined_df['clean_ReviewInTamil'])\n",
    "\n",
    "# Generate word cloud\n",
    "wordcloud = WordCloud(width = 800, height = 800,\n",
    "                background_color ='white',\n",
    "                stopwords = set(STOPWORDS),\n",
    "                min_font_size = 10).generate(all_text)\n",
    "\n",
    "plt.figure(figsize = (8, 8), facecolor = None)\n",
    "plt.imshow(wordcloud)\n",
    "plt.axis(\"off\")\n",
    "plt.tight_layout(pad = 0)\n",
    "\n",
    "plt.show()"
   ]
  },
  {
   "cell_type": "code",
   "execution_count": 762,
   "id": "5c71406b-a06e-40ef-960d-9a42ce4762a4",
   "metadata": {},
   "outputs": [],
   "source": [
    "# Hashtags analysis"
   ]
  },
  {
   "cell_type": "code",
   "execution_count": 765,
   "id": "439bc7f8-92ee-45a4-86b1-fd148154bb06",
   "metadata": {},
   "outputs": [],
   "source": [
    "def extract_hashtags(x):\n",
    "    hashtags = []\n",
    "    # Loop over the words in the tweet\n",
    "    for i in x:\n",
    "        ht = re.findall(r\"#(\\w+)\", i)\n",
    "        hashtags.append(ht)\n",
    "    return hashtags"
   ]
  },
  {
   "cell_type": "code",
   "execution_count": 767,
   "id": "684e2234-1a4d-4c22-83fb-d4a5545fbf5e",
   "metadata": {},
   "outputs": [],
   "source": [
    "hashtags = extract_hashtags(combined_df['ReviewInTamil'])"
   ]
  },
  {
   "cell_type": "code",
   "execution_count": 769,
   "id": "03f60a3c-de3f-406d-9390-b468f610d825",
   "metadata": {},
   "outputs": [
    {
     "data": {
      "image/png": "[encoded data removed]",
      "text/plain": [
       "<Figure size 1600x500 with 1 Axes>"
      ]
     },
     "metadata": {},
     "output_type": "display_data"
    }
   ],
   "source": [
    "hashtags_lower = [[tag.lower() for tag in tag_list] for tag_list in hashtags]\n",
    "\n",
    "combined_hashtags = sum(hashtags_lower, [])\n",
    "\n",
    "# Compute frequency distribution\n",
    "freq_dist = nltk.FreqDist(combined_hashtags)\n",
    "\n",
    "# Convert frequency distribution to DataFrame\n",
    "df_hashtags = pd.DataFrame({'Hashtag': list(freq_dist.keys()), 'Count': list(freq_dist.values())})\n",
    "\n",
    "df_hashtags['Hashtag'] = df_hashtags['Hashtag'].apply(lambda x: x.lower())\n",
    "df_hashtags = df_hashtags.groupby('Hashtag', as_index=False)['Count'].sum()\n",
    "\n",
    "# Select top 10 most frequent hashtags\n",
    "top_10_hashtags = df_hashtags.nlargest(columns=\"Count\", n=10)\n",
    "\n",
    "# Plot the top 10 most popular hashtags\n",
    "plt.figure(figsize=(16,5))\n",
    "ax = sns.barplot(data=top_10_hashtags, x=\"Hashtag\", y=\"Count\")\n",
    "ax.set(ylabel='Count')\n",
    "plt.title(\"Top 10 most popular hashtags\")\n",
    "plt.show()"
   ]
  },
  {
   "cell_type": "code",
   "execution_count": 771,
   "id": "49bdf4ed-b4d5-4307-8d40-b661a7355488",
   "metadata": {},
   "outputs": [],
   "source": [
    "# N Gram Analysis"
   ]
  },
  {
   "cell_type": "code",
   "execution_count": 773,
   "id": "30388598-206b-4ecf-b91d-268d2ab20f07",
   "metadata": {},
   "outputs": [
    {
     "name": "stdout",
     "output_type": "stream",
     "text": [
      "                         Bigram  Frequency\n",
      "31                 (<, newline)       1858\n",
      "32                 (newline, >)       1858\n",
      "1913              (>, படத்தின்)         80\n",
      "283            (>, மொத்தத்தில்)         64\n",
      "308                    (>, கதை)         54\n",
      "568                   (பலம், <)         50\n",
      "589                (>, இயக்கம்)         50\n",
      "569                   (>, பலம்)         50\n",
      "662                  (>, பைனல்)         49\n",
      "578                (>, பலவீனம்)         49\n",
      "342       (>, காட்சிப்படுத்தல்)         47\n",
      "481         (>, நட்சத்திரங்கள்)         47\n",
      "588                (பலவீனம், <)         47\n",
      "30              (பார்ப்போம், <)         46\n",
      "523   (>, தொழில்நுட்பகலைஞர்கள்)         42\n",
      "1067             (பைனல், பன்ச்)         42\n",
      "407              (>, கதாநாயகர்)         38\n",
      "2552             (பின்னணி, இசை)         38\n",
      "89               (மீதிக்கதை, <)         36\n",
      "1084        (தமிழ், சினிமாவில்)         34\n"
     ]
    }
   ],
   "source": [
    "from nltk.util import ngrams\n",
    "from collections import Counter\n",
    "\n",
    "words = all_text.split()\n",
    "bigram_freq = Counter(ngrams(words, 2))\n",
    "bigram_freq_df = pd.DataFrame(list(bigram_freq.items()), columns=['Bigram', 'Frequency'])\n",
    "bigram_freq_df = bigram_freq_df.sort_values(by='Frequency', ascending=False)\n",
    "\n",
    "# Display the top N most frequent bigrams\n",
    "top_N = 20\n",
    "print(bigram_freq_df.head(top_N))"
   ]
  },
  {
   "cell_type": "code",
   "execution_count": 775,
   "id": "ccede0b0-3733-43dd-8ca6-0d07654ffdae",
   "metadata": {},
   "outputs": [
    {
     "data": {
      "image/png": "[encoded data removed]",
      "text/plain": [
       "<Figure size 1000x600 with 1 Axes>"
      ]
     },
     "metadata": {},
     "output_type": "display_data"
    }
   ],
   "source": [
    "plt.figure(figsize=(10,6))\n",
    "sns.barplot(x='Frequency', y=[' '.join(bigram) for bigram in bigram_freq_df['Bigram'].head(top_N)],\n",
    "            data=bigram_freq_df.head(top_N))\n",
    "plt.title(f'Top {top_N} Most Frequent Bigrams')\n",
    "plt.xlabel('Frequency')\n",
    "plt.ylabel('Bigram')\n",
    "plt.show()"
   ]
  },
  {
   "cell_type": "code",
   "execution_count": 777,
   "id": "dc523508-a456-435b-a6ea-a6413c87de2d",
   "metadata": {},
   "outputs": [
    {
     "name": "stdout",
     "output_type": "stream",
     "text": [
      "                                 Trigram  Frequency\n",
      "31                       (<, newline, >)       1858\n",
      "2035              (newline, >, படத்தின்)         80\n",
      "297            (newline, >, மொத்தத்தில்)         64\n",
      "323                    (newline, >, கதை)         54\n",
      "626                (newline, >, இயக்கம்)         50\n",
      "604                   (newline, >, பலம்)         50\n",
      "603                   (பலம், <, newline)         50\n",
      "706                  (newline, >, பைனல்)         49\n",
      "614                (newline, >, பலவீனம்)         49\n",
      "359       (newline, >, காட்சிப்படுத்தல்)         47\n",
      "625                (பலவீனம், <, newline)         47\n",
      "507         (newline, >, நட்சத்திரங்கள்)         47\n",
      "30              (பார்ப்போம், <, newline)         46\n",
      "554   (newline, >, தொழில்நுட்பகலைஞர்கள்)         42\n",
      "1136                   (>, பைனல், பன்ச்)         42\n",
      "427              (newline, >, கதாநாயகர்)         38\n",
      "92               (மீதிக்கதை, <, newline)         36\n",
      "48                   (newline, >, ஆனால்)         30\n",
      "440               (newline, >, கதாநாயகி)         29\n",
      "2066              (newline, >, படத்தில்)         25\n"
     ]
    }
   ],
   "source": [
    "trigram_freq = Counter(ngrams(words, 3))\n",
    "trigram_freq_df = pd.DataFrame(list(trigram_freq.items()), columns=['Trigram', 'Frequency'])\n",
    "trigram_freq_df = trigram_freq_df.sort_values(by='Frequency', ascending=False)\n",
    "\n",
    "top_N = 20\n",
    "\n",
    "\n",
    "print(trigram_freq_df.head(top_N))"
   ]
  },
  {
   "cell_type": "code",
   "execution_count": 779,
   "id": "7eacb680-8a84-45ff-8b89-f5aff676c364",
   "metadata": {},
   "outputs": [],
   "source": [
    "from sklearn.feature_extraction.text import CountVectorizer\n",
    "from sklearn.decomposition import LatentDirichletAllocation\n",
    "\n",
    "# Tokenize and vectorize the text data\n",
    "vectorizer = CountVectorizer(max_df=0.95, min_df=2, stop_words='english')\n",
    "X = vectorizer.fit_transform(combined_df['clean_ReviewInTamil'])\n",
    "\n",
    "lda_model = LatentDirichletAllocation(n_components=5, random_state=42) # Topic modelling\n",
    "lda_output = lda_model.fit_transform(X)"
   ]
  },
  {
   "cell_type": "code",
   "execution_count": 780,
   "id": "b62ebfef-3034-42a2-bbf0-811a6f51accd",
   "metadata": {},
   "outputs": [
    {
     "name": "stdout",
     "output_type": "stream",
     "text": [
      "Topics found via LDA:\n",
      "Topic 1:\n",
      "என இல இச அர படம ரச கண ரன மல அன\n",
      "Topic 2:\n",
      "quot மன கர டன தல ரச கட இயக கம யக\n",
      "Topic 3:\n",
      "படம டன அவர என இவர ஆண தன வந இப யம\n",
      "Topic 4:\n",
      "அத வத படம டம கல தன கர என கம அட\n",
      "Topic 5:\n",
      "தல கர இயக ரம டன உள கம என கவ கட\n"
     ]
    }
   ],
   "source": [
    "def display_topics(model, feature_names, no_top_words):\n",
    "    for topic_idx, topic in enumerate(model.components_):\n",
    "        print(f\"Topic {topic_idx+1}:\")\n",
    "        print(\" \".join([feature_names[i] for i in topic.argsort()[:-no_top_words - 1:-1]]))\n",
    "\n",
    "# Display the topics\n",
    "print(\"Topics found via LDA:\")\n",
    "no_top_words = 10\n",
    "display_topics(lda_model, vectorizer.get_feature_names_out(), no_top_words)"
   ]
  },
  {
   "cell_type": "code",
   "execution_count": 783,
   "id": "540da5a1-56e5-4bbc-b437-6fcd736035fd",
   "metadata": {},
   "outputs": [
    {
     "name": "stderr",
     "output_type": "stream",
     "text": [
      "[nltk_data] Downloading package vader_lexicon to\n",
      "[nltk_data]     /Users/pramodnelavalli/nltk_data...\n",
      "[nltk_data]   Package vader_lexicon is already up-to-date!\n"
     ]
    },
    {
     "data": {
      "text/plain": [
       "True"
      ]
     },
     "execution_count": 783,
     "metadata": {},
     "output_type": "execute_result"
    }
   ],
   "source": [
    "nltk.download('vader_lexicon')"
   ]
  },
  {
   "cell_type": "code",
   "execution_count": 785,
   "id": "cd83daea-4b03-4400-a9e3-328371838a1d",
   "metadata": {},
   "outputs": [
    {
     "data": {
      "image/png": "[encoded data removed]",
      "text/plain": [
       "<Figure size 800x600 with 1 Axes>"
      ]
     },
     "metadata": {},
     "output_type": "display_data"
    }
   ],
   "source": [
    "from nltk.sentiment import SentimentIntensityAnalyzer\n",
    "\n",
    "# Initialize Sentiment Intensity Analyzer\n",
    "sia = SentimentIntensityAnalyzer() #vader-sentiment-analyzer\n",
    "\n",
    "# Compute sentiment scores for each tweet\n",
    "combined_df['sentiment'] = combined_df['clean_ReviewInTamil'].apply(lambda x: sia.polarity_scores(x)['compound'])\n",
    "\n",
    "# Plot sentiment distribution\n",
    "plt.figure(figsize=(8, 6))\n",
    "sns.histplot(combined_df['sentiment'], bins=20, kde=True)\n",
    "plt.title('Sentiment Distribution')\n",
    "plt.xlabel('Sentiment Score')\n",
    "plt.ylabel('Frequency')\n",
    "plt.show()"
   ]
  },
  {
   "cell_type": "code",
   "execution_count": 787,
   "id": "dc49fcc5-7acb-4463-be94-59b8a7f98167",
   "metadata": {},
   "outputs": [],
   "source": [
    "#Tf-IDF vectorizer"
   ]
  },
  {
   "cell_type": "code",
   "execution_count": 789,
   "id": "f9845b08-1a46-49c2-b9ca-16bcf3773600",
   "metadata": {},
   "outputs": [],
   "source": [
    "from sklearn.feature_extraction.text import TfidfVectorizer\n",
    "\n",
    "# Initialize TF-IDF Vectorizer\n",
    "tfidf_vectorizer = TfidfVectorizer(max_df=0.95, min_df=2, stop_words='english')\n",
    "# max-   maximum no of dcment a term can appear\n",
    "# min-   minimum no of ducment a term can appear"
   ]
  },
  {
   "cell_type": "code",
   "execution_count": 791,
   "id": "d5af3d32-0de6-4672-8177-975a32dd71d0",
   "metadata": {},
   "outputs": [
    {
     "data": {
      "text/html": [
       "<div>\n",
       "<style scoped>\n",
       "    .dataframe tbody tr th:only-of-type {\n",
       "        vertical-align: middle;\n",
       "    }\n",
       "\n",
       "    .dataframe tbody tr th {\n",
       "        vertical-align: top;\n",
       "    }\n",
       "\n",
       "    .dataframe thead th {\n",
       "        text-align: right;\n",
       "    }\n",
       "</style>\n",
       "<table border=\"1\" class=\"dataframe\">\n",
       "  <thead>\n",
       "    <tr style=\"text-align: right;\">\n",
       "      <th></th>\n",
       "      <th>clean_ReviewInTamil</th>\n",
       "      <th>top_keywords</th>\n",
       "    </tr>\n",
       "  </thead>\n",
       "  <tbody>\n",
       "    <tr>\n",
       "      <th>0</th>\n",
       "      <td>லாரன்ஸுக்கும் பேய்க்கும் எப்போதும் வெற்றி கனெக...</td>\n",
       "      <td>[(ரன, 0.3217773261005972), (சக, 0.305262710018...</td>\n",
       "    </tr>\n",
       "    <tr>\n",
       "      <th>1</th>\n",
       "      <td>கரு இன்றைய சூழலில் சமூக வலைதளங்களால் சமூகத்தில...</td>\n",
       "      <td>[(quot, 0.8805457784732801), (இண, 0.2318215572...</td>\n",
       "    </tr>\n",
       "    <tr>\n",
       "      <th>2</th>\n",
       "      <td>கதை வசதியற்ற சாதாரண குடும்பத்தை நாயகர் பிரித்வ...</td>\n",
       "      <td>[(ஜன, 0.4157170472584658), (தல, 0.313204631793...</td>\n",
       "    </tr>\n",
       "    <tr>\n",
       "      <th>3</th>\n",
       "      <td>தமிழ் சினிமாவில் இயக்குனர்களுக்காக சிலர் படம் ...</td>\n",
       "      <td>[(சரண, 0.5823357940119932), (எதற, 0.2114421304...</td>\n",
       "    </tr>\n",
       "    <tr>\n",
       "      <th>4</th>\n",
       "      <td>கரு வேலையில்லா பட்டதாரி படத்தின் பகுதி 2 ஆக இய...</td>\n",
       "      <td>[(கஜ, 0.48028177877874184), (தன, 0.29447473645...</td>\n",
       "    </tr>\n",
       "    <tr>\n",
       "      <th>5</th>\n",
       "      <td>தமிழ் சினிமாவில் சிலருக்கு தொட்டதெல்லாம் வெற்ற...</td>\n",
       "      <td>[(வக, 0.45733694314475715), (யன, 0.44466388674...</td>\n",
       "    </tr>\n",
       "    <tr>\n",
       "      <th>6</th>\n",
       "      <td>read vanamagan review in english &lt; newline &gt; த...</td>\n",
       "      <td>[(ரவ, 0.45151096003042335), (வனமகன, 0.40652388...</td>\n",
       "    </tr>\n",
       "    <tr>\n",
       "      <th>7</th>\n",
       "      <td>தமிழ் சினிமாவில் எப்போதும் நடிகர்களுக்காகவே பட...</td>\n",
       "      <td>[(ஃப, 0.36671043837715683), (அவர, 0.3629188203...</td>\n",
       "    </tr>\n",
       "    <tr>\n",
       "      <th>8</th>\n",
       "      <td>மெர்சலா வாரங்க கூடவே நாங்களும் துள்ளி வரோம் மே...</td>\n",
       "      <td>[(பவ, 0.46557886686489736), (ரள, 0.33539421523...</td>\n",
       "    </tr>\n",
       "    <tr>\n",
       "      <th>9</th>\n",
       "      <td>கரு நம்பர் ஒன் விருது பெற எதையும் செய்யும் வில...</td>\n",
       "      <td>[(ளதம, 0.5533640336421205), (தல, 0.19389389947...</td>\n",
       "    </tr>\n",
       "  </tbody>\n",
       "</table>\n",
       "</div>"
      ],
      "text/plain": [
       "                                 clean_ReviewInTamil  \\\n",
       "0  லாரன்ஸுக்கும் பேய்க்கும் எப்போதும் வெற்றி கனெக...   \n",
       "1  கரு இன்றைய சூழலில் சமூக வலைதளங்களால் சமூகத்தில...   \n",
       "2  கதை வசதியற்ற சாதாரண குடும்பத்தை நாயகர் பிரித்வ...   \n",
       "3  தமிழ் சினிமாவில் இயக்குனர்களுக்காக சிலர் படம் ...   \n",
       "4  கரு வேலையில்லா பட்டதாரி படத்தின் பகுதி 2 ஆக இய...   \n",
       "5  தமிழ் சினிமாவில் சிலருக்கு தொட்டதெல்லாம் வெற்ற...   \n",
       "6  read vanamagan review in english < newline > த...   \n",
       "7  தமிழ் சினிமாவில் எப்போதும் நடிகர்களுக்காகவே பட...   \n",
       "8  மெர்சலா வாரங்க கூடவே நாங்களும் துள்ளி வரோம் மே...   \n",
       "9  கரு நம்பர் ஒன் விருது பெற எதையும் செய்யும் வில...   \n",
       "\n",
       "                                        top_keywords  \n",
       "0  [(ரன, 0.3217773261005972), (சக, 0.305262710018...  \n",
       "1  [(quot, 0.8805457784732801), (இண, 0.2318215572...  \n",
       "2  [(ஜன, 0.4157170472584658), (தல, 0.313204631793...  \n",
       "3  [(சரண, 0.5823357940119932), (எதற, 0.2114421304...  \n",
       "4  [(கஜ, 0.48028177877874184), (தன, 0.29447473645...  \n",
       "5  [(வக, 0.45733694314475715), (யன, 0.44466388674...  \n",
       "6  [(ரவ, 0.45151096003042335), (வனமகன, 0.40652388...  \n",
       "7  [(ஃப, 0.36671043837715683), (அவர, 0.3629188203...  \n",
       "8  [(பவ, 0.46557886686489736), (ரள, 0.33539421523...  \n",
       "9  [(ளதம, 0.5533640336421205), (தல, 0.19389389947...  "
      ]
     },
     "execution_count": 791,
     "metadata": {},
     "output_type": "execute_result"
    }
   ],
   "source": [
    "\n",
    "# Fit and transform the text data\n",
    "tfidf_matrix = tfidf_vectorizer.fit_transform(combined_df['clean_ReviewInTamil'])\n",
    "\n",
    "# Get feature names\n",
    "feature_names = tfidf_vectorizer.get_feature_names_out()\n",
    "\n",
    "# Get top keywords for each tweet\n",
    "top_keywords = []\n",
    "for i in range(len(combined_df)):\n",
    "    feature_index = tfidf_matrix[i,:].nonzero()[1]\n",
    "    tfidf_scores = zip(feature_index, [tfidf_matrix[i, x] for x in feature_index])\n",
    "    top_keywords.append(sorted([(feature_names[i], s) for (i, s) in tfidf_scores], key=lambda x: x[1], reverse=True)[:5])\n",
    "\n",
    "# Display top keywords\n",
    "combined_df['top_keywords'] = top_keywords\n",
    "combined_df[['clean_ReviewInTamil', 'top_keywords']].head(10)"
   ]
  },
  {
   "cell_type": "code",
   "execution_count": null,
   "id": "a1ef12cd-1695-40ed-ac07-9c423eae158a",
   "metadata": {},
   "outputs": [],
   "source": []
  }
 ],
 "metadata": {
  "kernelspec": {
   "display_name": "Python [conda env:base] *",
   "language": "python",
   "name": "conda-base-py"
  },
  "language_info": {
   "codemirror_mode": {
    "name": "ipython",
    "version": 3
   },
   "file_extension": ".py",
   "mimetype": "text/x-python",
   "name": "python",
   "nbconvert_exporter": "python",
   "pygments_lexer": "ipython3",
   "version": "3.12.7"
  }
 },
 "nbformat": 4,
 "nbformat_minor": 5
}
