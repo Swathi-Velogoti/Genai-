{
 "cells": [
  {
   "cell_type": "code",
   "execution_count": null,
   "id": "a19c0ea7-9eb8-4935-9898-a3d932d1b72e",
   "metadata": {},
   "outputs": [
    {
     "name": "stdout",
     "output_type": "stream",
     "text": [
      "Requirement already satisfied: spacy in /opt/anaconda3/lib/python3.12/site-packages (3.8.4)\n",
      "Requirement already satisfied: pymupdf in /opt/anaconda3/lib/python3.12/site-packages (1.25.3)\n",
      "Requirement already satisfied: spacy-legacy<3.1.0,>=3.0.11 in /opt/anaconda3/lib/python3.12/site-packages (from spacy) (3.0.12)\n",
      "Requirement already satisfied: spacy-loggers<2.0.0,>=1.0.0 in /opt/anaconda3/lib/python3.12/site-packages (from spacy) (1.0.5)\n",
      "Requirement already satisfied: murmurhash<1.1.0,>=0.28.0 in /opt/anaconda3/lib/python3.12/site-packages (from spacy) (1.0.12)\n",
      "Requirement already satisfied: cymem<2.1.0,>=2.0.2 in /opt/anaconda3/lib/python3.12/site-packages (from spacy) (2.0.11)\n",
      "Requirement already satisfied: preshed<3.1.0,>=3.0.2 in /opt/anaconda3/lib/python3.12/site-packages (from spacy) (3.0.9)\n",
      "Requirement already satisfied: thinc<8.4.0,>=8.3.4 in /opt/anaconda3/lib/python3.12/site-packages (from spacy) (8.3.4)\n",
      "Requirement already satisfied: wasabi<1.2.0,>=0.9.1 in /opt/anaconda3/lib/python3.12/site-packages (from spacy) (1.1.3)\n",
      "Requirement already satisfied: srsly<3.0.0,>=2.4.3 in /opt/anaconda3/lib/python3.12/site-packages (from spacy) (2.5.1)\n",
      "Requirement already satisfied: catalogue<2.1.0,>=2.0.6 in /opt/anaconda3/lib/python3.12/site-packages (from spacy) (2.0.10)\n",
      "Requirement already satisfied: weasel<0.5.0,>=0.1.0 in /opt/anaconda3/lib/python3.12/site-packages (from spacy) (0.4.1)\n",
      "Requirement already satisfied: typer<1.0.0,>=0.3.0 in /opt/anaconda3/lib/python3.12/site-packages (from spacy) (0.9.0)\n",
      "Requirement already satisfied: tqdm<5.0.0,>=4.38.0 in /opt/anaconda3/lib/python3.12/site-packages (from spacy) (4.66.5)\n",
      "Requirement already satisfied: numpy>=1.19.0 in /opt/anaconda3/lib/python3.12/site-packages (from spacy) (1.26.4)\n",
      "Requirement already satisfied: requests<3.0.0,>=2.13.0 in /opt/anaconda3/lib/python3.12/site-packages (from spacy) (2.32.3)\n",
      "Requirement already satisfied: pydantic!=1.8,!=1.8.1,<3.0.0,>=1.7.4 in /opt/anaconda3/lib/python3.12/site-packages (from spacy) (2.8.2)\n",
      "Requirement already satisfied: jinja2 in /opt/anaconda3/lib/python3.12/site-packages (from spacy) (3.1.4)\n",
      "Requirement already satisfied: setuptools in /opt/anaconda3/lib/python3.12/site-packages (from spacy) (75.1.0)\n",
      "Requirement already satisfied: packaging>=20.0 in /opt/anaconda3/lib/python3.12/site-packages (from spacy) (24.1)\n",
      "Requirement already satisfied: langcodes<4.0.0,>=3.2.0 in /opt/anaconda3/lib/python3.12/site-packages (from spacy) (3.5.0)\n",
      "Requirement already satisfied: language-data>=1.2 in /opt/anaconda3/lib/python3.12/site-packages (from langcodes<4.0.0,>=3.2.0->spacy) (1.3.0)\n",
      "Requirement already satisfied: annotated-types>=0.4.0 in /opt/anaconda3/lib/python3.12/site-packages (from pydantic!=1.8,!=1.8.1,<3.0.0,>=1.7.4->spacy) (0.6.0)\n",
      "Requirement already satisfied: pydantic-core==2.20.1 in /opt/anaconda3/lib/python3.12/site-packages (from pydantic!=1.8,!=1.8.1,<3.0.0,>=1.7.4->spacy) (2.20.1)\n",
      "Requirement already satisfied: typing-extensions>=4.6.1 in /opt/anaconda3/lib/python3.12/site-packages (from pydantic!=1.8,!=1.8.1,<3.0.0,>=1.7.4->spacy) (4.11.0)\n",
      "Requirement already satisfied: charset-normalizer<4,>=2 in /opt/anaconda3/lib/python3.12/site-packages (from requests<3.0.0,>=2.13.0->spacy) (3.3.2)\n",
      "Requirement already satisfied: idna<4,>=2.5 in /opt/anaconda3/lib/python3.12/site-packages (from requests<3.0.0,>=2.13.0->spacy) (3.7)\n",
      "Requirement already satisfied: urllib3<3,>=1.21.1 in /opt/anaconda3/lib/python3.12/site-packages (from requests<3.0.0,>=2.13.0->spacy) (2.2.3)\n",
      "Requirement already satisfied: certifi>=2017.4.17 in /opt/anaconda3/lib/python3.12/site-packages (from requests<3.0.0,>=2.13.0->spacy) (2025.1.31)\n",
      "Requirement already satisfied: blis<1.3.0,>=1.2.0 in /opt/anaconda3/lib/python3.12/site-packages (from thinc<8.4.0,>=8.3.4->spacy) (1.2.0)\n",
      "Requirement already satisfied: confection<1.0.0,>=0.0.1 in /opt/anaconda3/lib/python3.12/site-packages (from thinc<8.4.0,>=8.3.4->spacy) (0.1.5)\n",
      "Requirement already satisfied: click<9.0.0,>=7.1.1 in /opt/anaconda3/lib/python3.12/site-packages (from typer<1.0.0,>=0.3.0->spacy) (8.1.7)\n",
      "Requirement already satisfied: cloudpathlib<1.0.0,>=0.7.0 in /opt/anaconda3/lib/python3.12/site-packages (from weasel<0.5.0,>=0.1.0->spacy) (0.21.0)\n",
      "Requirement already satisfied: smart-open<8.0.0,>=5.2.1 in /opt/anaconda3/lib/python3.12/site-packages (from weasel<0.5.0,>=0.1.0->spacy) (5.2.1)\n",
      "Requirement already satisfied: MarkupSafe>=2.0 in /opt/anaconda3/lib/python3.12/site-packages (from jinja2->spacy) (2.1.3)\n",
      "Requirement already satisfied: marisa-trie>=1.1.0 in /opt/anaconda3/lib/python3.12/site-packages (from language-data>=1.2->langcodes<4.0.0,>=3.2.0->spacy) (1.2.1)\n"
     ]
    }
   ],
   "source": [
    "!pip install spacy pymupdf\n",
    "!python -m spacy download en_core_web_sm"
   ]
  },
  {
   "cell_type": "raw",
   "id": "f7bc7f23-46fd-466f-8eb3-e6c375c67bdf",
   "metadata": {},
   "source": [
    "import spacy \n",
    "import fitz\n",
    "nlp = spacy.load(\"en_core_web_sm\")\n"
   ]
  },
  {
   "cell_type": "code",
   "execution_count": 78,
   "id": "b2b54f72-e5a7-4815-8542-dc28a5754a8d",
   "metadata": {},
   "outputs": [],
   "source": [
    "import fitz  \n",
    "def extract_text_from_pdf(pdf_path, page_num=2):\n",
    "    # \"\"\"Extract text from a specific page of a PDF\"\"\"\n",
    "    doc = fitz.open(pdf_path)  # Open the PDF\n",
    "    text = doc[page_num].get_text(\"text\")  # Extract text from the specified page\n",
    "    return text\n"
   ]
  },
  {
   "cell_type": "code",
   "execution_count": 79,
   "id": "a1ac1578-0ee6-4a61-8def-da48bf08a4c6",
   "metadata": {},
   "outputs": [],
   "source": [
    "pdf_path = \"/Users/pramodnelavalli/Documents/documents/Adani Power Limited  C to C 01062024 1150 187 MBcompressed.pdf\""
   ]
  },
  {
   "cell_type": "code",
   "execution_count": 82,
   "id": "bfae5114-39f5-4918-a412-bb8a6575e42e",
   "metadata": {},
   "outputs": [],
   "source": [
    "text = extract_text_from_pdf(pdf_path)\n"
   ]
  },
  {
   "cell_type": "code",
   "execution_count": 84,
   "id": "a195e0ea-6abc-4918-88f7-4ffb615897e7",
   "metadata": {},
   "outputs": [
    {
     "name": "stdout",
     "output_type": "stream",
     "text": [
      "Extracted Text:\n",
      " Mount Everest, the world's highest mountain\n",
      "Mountains symbolise trust \n",
      "and truthfulness, strength \n",
      "and stillness, constancy and \n",
      "courage. In this publication, we \n",
      "have drawn our inspiration from \n",
      "the mountains, and paid our \n",
      "humble homage to the world's \n",
      "highest mountains.\n",
      "While storms can flatten structures and cyclones can destroy cities, \n",
      "they cannot do anything to mountains.\n",
      "Mountains remain unmoved and unaffected. From one peak to another, \n",
      "they continue to rise higher and higher.\n",
      "And as they rise, they emerge stronger.\n",
      "We also faced a severe man-made storm recently – one that would have \n",
      "destroyed most businesses.\n",
      "But, under the visionary leadership of our Chairman, we remained \n",
      "unyielding like a mountain.\n",
      "We kept building inner strength by:\n",
      "With untiring learning, we made the biggest comeback in the \n",
      "history of corporate India with our strongest performance ever.\n",
      "We continue to rise higher and higher, and emerge\n",
      "Stronger Than Ever\n",
      "Our unceasing \n",
      "commitment to \n",
      "governance and \n",
      "compliance\n",
      "Our unwavering  \n",
      "focus on \n",
      "sustainability and \n",
      "impact creation\n",
      "Our unending \n",
      "endeavour to  \n",
      "trust and \n",
      "transparency\n",
      "\n"
     ]
    }
   ],
   "source": [
    "# Print the extracted text\n",
    "print(\"Extracted Text:\\n\", text)\n"
   ]
  },
  {
   "cell_type": "code",
   "execution_count": 90,
   "id": "76c0e917-888a-405d-8daf-56ca431b83f3",
   "metadata": {},
   "outputs": [
    {
     "name": "stdout",
     "output_type": "stream",
     "text": [
      "[('Mount Everest', 'LOC'), ('Mountains', 'PERSON'), ('one', 'CARDINAL'), ('India', 'GPE')]\n"
     ]
    }
   ],
   "source": [
    "import spacy\n",
    "\n",
    "# Load the English NER model from SpaCy\n",
    "nlp = spacy.load(\"en_core_web_sm\")\n",
    "\n",
    "# Process the text using SpaCy\n",
    "doc = nlp(text)\n",
    "\n",
    "# Extract named entities from the processed text\n",
    "entities = [(entity.text, entity.label_) for entity in doc.ents]\n",
    "\n",
    "# Print the extracted named entities and their labels\n",
    "print(entities)"
   ]
  },
  {
   "cell_type": "code",
   "execution_count": null,
   "id": "31ba3c9a-bde8-449b-8956-a867728392c2",
   "metadata": {},
   "outputs": [],
   "source": []
  }
 ],
 "metadata": {
  "kernelspec": {
   "display_name": "Python [conda env:base] *",
   "language": "python",
   "name": "conda-base-py"
  },
  "language_info": {
   "codemirror_mode": {
    "name": "ipython",
    "version": 3
   },
   "file_extension": ".py",
   "mimetype": "text/x-python",
   "name": "python",
   "nbconvert_exporter": "python",
   "pygments_lexer": "ipython3",
   "version": "3.12.7"
  }
 },
 "nbformat": 4,
 "nbformat_minor": 5
}
